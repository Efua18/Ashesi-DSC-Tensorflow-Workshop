{
 "cells": [
  {
   "cell_type": "markdown",
   "metadata": {
    "colab_type": "text",
    "id": "5W31TNOg_Tra"
   },
   "source": [
    "### A demonstration of the use of machine learning to teach a computer the Celsius to Fahrenheit conversion formula"
   ]
  },
  {
   "cell_type": "markdown",
   "metadata": {
    "colab_type": "text",
    "id": "RlT7iGGR_M-W"
   },
   "source": [
    "Import appropriate libraries:"
   ]
  },
  {
   "cell_type": "code",
   "execution_count": 0,
   "metadata": {
    "colab": {},
    "colab_type": "code",
    "id": "vFNnxBQCrBaR"
   },
   "outputs": [],
   "source": [
    "import tensorflow as tf\n",
    "import numpy as np"
   ]
  },
  {
   "cell_type": "code",
   "execution_count": 2,
   "metadata": {
    "colab": {
     "base_uri": "https://localhost:8080/",
     "height": 35
    },
    "colab_type": "code",
    "id": "iCYHAnUotNQD",
    "outputId": "fae738b9-c911-47fc-f0ab-a1228fce8277"
   },
   "outputs": [
    {
     "data": {
      "text/plain": [
       "'1.13.1'"
      ]
     },
     "execution_count": 2,
     "metadata": {
      "tags": []
     },
     "output_type": "execute_result"
    }
   ],
   "source": [
    "tf.__version__"
   ]
  },
  {
   "cell_type": "markdown",
   "metadata": {
    "colab_type": "text",
    "id": "5wVIZYCS_tIo"
   },
   "source": [
    "Our dataset is a pair of small numpy arrays. The training data is in the celcius array, and the training labels are in the fahrenheit array."
   ]
  },
  {
   "cell_type": "code",
   "execution_count": 0,
   "metadata": {
    "colab": {},
    "colab_type": "code",
    "id": "MYW_HvRBrG5j"
   },
   "outputs": [],
   "source": [
    "celsius_q    = np.array([-40, -10,  0,  8, 15, 22,  38],  dtype=float)\n",
    "fahrenheit_a = np.array([-40,  14, 32, 46, 59, 72, 100],  dtype=float)"
   ]
  },
  {
   "cell_type": "markdown",
   "metadata": {
    "colab_type": "text",
    "id": "SfKFzleOAGnf"
   },
   "source": [
    "The flow is:\n",
    "\n",
    "\n",
    "1.   Build the model\n",
    "2.   Compile it with appropriate optimizer, loss and/or metrics\n",
    "3.   Train the model\n",
    "\n"
   ]
  },
  {
   "cell_type": "markdown",
   "metadata": {
    "colab_type": "text",
    "id": "7AyNGaqBAXys"
   },
   "source": [
    "Build:\n",
    "\n",
    "We want to use just one node in one layer for this small experiment. We're attempting to follow the format for the equation of a line: **y = mx + c**, since our Celsius to Fahrenheit conversion formula follows that equation: **F = 1.8C + 32**"
   ]
  },
  {
   "cell_type": "code",
   "execution_count": 4,
   "metadata": {
    "colab": {
     "base_uri": "https://localhost:8080/",
     "height": 92
    },
    "colab_type": "code",
    "id": "3yJgUlQkvnKU",
    "outputId": "aaefaf26-82cb-4236-aaeb-b57ee42f25b6"
   },
   "outputs": [
    {
     "name": "stdout",
     "output_type": "stream",
     "text": [
      "WARNING:tensorflow:From /usr/local/lib/python3.6/dist-packages/tensorflow/python/ops/resource_variable_ops.py:435: colocate_with (from tensorflow.python.framework.ops) is deprecated and will be removed in a future version.\n",
      "Instructions for updating:\n",
      "Colocations handled automatically by placer.\n"
     ]
    }
   ],
   "source": [
    "model = tf.keras.Sequential([\n",
    "    tf.keras.layers.Dense(1, input_shape=[1])\n",
    "])"
   ]
  },
  {
   "cell_type": "markdown",
   "metadata": {
    "colab_type": "text",
    "id": "HBlLeTWEA9kb"
   },
   "source": [
    "Compile:\n",
    "\n",
    "Compile the model using the Adam optimizer and a learning rate of 0.1. Also, we'll measure loss using mean squared error."
   ]
  },
  {
   "cell_type": "code",
   "execution_count": 0,
   "metadata": {
    "colab": {},
    "colab_type": "code",
    "id": "CNdLMWSez-ZD"
   },
   "outputs": [],
   "source": [
    "model.compile(optimizer=tf.keras.optimizers.Adam(0.1),\n",
    "             loss=tf.keras.losses.mean_squared_error)"
   ]
  },
  {
   "cell_type": "markdown",
   "metadata": {
    "colab_type": "text",
    "id": "1qEbZFAcEHxb"
   },
   "source": [
    "Train:\n",
    "\n",
    "Training happens using the fit() method. We feed in the data and labels and train for 500 epochs, since we have limited data. One epoch represents a full pass throught the dataset."
   ]
  },
  {
   "cell_type": "code",
   "execution_count": 6,
   "metadata": {
    "colab": {
     "base_uri": "https://localhost:8080/",
     "height": 92
    },
    "colab_type": "code",
    "id": "E3OP_JdC0OIP",
    "outputId": "c78fba9f-373d-4eaa-d4dd-0cc83671e6d1"
   },
   "outputs": [
    {
     "name": "stdout",
     "output_type": "stream",
     "text": [
      "WARNING:tensorflow:From /usr/local/lib/python3.6/dist-packages/tensorflow/python/ops/math_ops.py:3066: to_int32 (from tensorflow.python.ops.math_ops) is deprecated and will be removed in a future version.\n",
      "Instructions for updating:\n",
      "Use tf.cast instead.\n"
     ]
    }
   ],
   "source": [
    "history = model.fit(celsius_q, fahrenheit_a, epochs=500, verbose=False)"
   ]
  },
  {
   "cell_type": "markdown",
   "metadata": {
    "colab_type": "text",
    "id": "qpqA51HaEaQ6"
   },
   "source": [
    "After fitting, we can plot the loss history to see how our model learnt and reduced loss over time."
   ]
  },
  {
   "cell_type": "code",
   "execution_count": 7,
   "metadata": {
    "colab": {
     "base_uri": "https://localhost:8080/",
     "height": 279
    },
    "colab_type": "code",
    "id": "yBUiDwFc0bfL",
    "outputId": "42b2bb5c-c0be-4e2c-fa67-396d82fb2cf9"
   },
   "outputs": [
    {
     "data": {
      "image/png": "[encoded data removed]",
      "text/plain": [
       "<Figure size 432x288 with 1 Axes>"
      ]
     },
     "metadata": {
      "tags": []
     },
     "output_type": "display_data"
    }
   ],
   "source": [
    "import matplotlib.pyplot as plt\n",
    "%matplotlib inline\n",
    "\n",
    "plt.figure()\n",
    "plt.xlabel('epoch')\n",
    "plt.ylabel('loss')\n",
    "plt.plot(history.history['loss'])\n",
    "plt.show()"
   ]
  },
  {
   "cell_type": "markdown",
   "metadata": {
    "colab_type": "text",
    "id": "74_9-mzvEo0d"
   },
   "source": [
    "We can now attempt to predict the Fahrenheit value of 100 degrees Celsius using our model. We need to pass the input in as an array based on our model structure."
   ]
  },
  {
   "cell_type": "code",
   "execution_count": 8,
   "metadata": {
    "colab": {
     "base_uri": "https://localhost:8080/",
     "height": 35
    },
    "colab_type": "code",
    "id": "iI1-iUqm0jRK",
    "outputId": "00a65cd6-262f-4817-a37d-861d10b1a6fb"
   },
   "outputs": [
    {
     "data": {
      "text/plain": [
       "array([[211.32317]], dtype=float32)"
      ]
     },
     "execution_count": 8,
     "metadata": {
      "tags": []
     },
     "output_type": "execute_result"
    }
   ],
   "source": [
    "model.predict([100])"
   ]
  },
  {
   "cell_type": "markdown",
   "metadata": {
    "colab_type": "text",
    "id": "EgwQ9vQNE-_O"
   },
   "source": [
    "The correct answer is 212. Our model comes close with 211.32317. You need to realize that our model has **no idea** what the formula is. It simply looked at the examples again and again until it learnt its own rules.\n",
    "\n",
    "We can look at what rules it learnt, by observing the weights and biases it assigned to our single node:"
   ]
  },
  {
   "cell_type": "code",
   "execution_count": 9,
   "metadata": {
    "colab": {
     "base_uri": "https://localhost:8080/",
     "height": 35
    },
    "colab_type": "code",
    "id": "jnGnR7rw3Ll-",
    "outputId": "559df097-fee3-4ab7-b8de-5a0c437c1641"
   },
   "outputs": [
    {
     "data": {
      "text/plain": [
       "[array([[1.8226193]], dtype=float32), array([29.061235], dtype=float32)]"
      ]
     },
     "execution_count": 9,
     "metadata": {
      "tags": []
     },
     "output_type": "execute_result"
    }
   ],
   "source": [
    "model.get_layer(index=0).get_weights()"
   ]
  },
  {
   "cell_type": "markdown",
   "metadata": {
    "colab_type": "text",
    "id": "ubJb04F7GDwy"
   },
   "source": [
    "We observe two values: **1.82** and **29.06**. This figures may change on a rerun.\n",
    "\n",
    "Although not perfect, this is close to 1.8 and 32, the constants in our conversion formula. Not too shabby for a very basic network."
   ]
  },
  {
   "cell_type": "markdown",
   "metadata": {
    "colab_type": "text",
    "id": "Ey-JGRkDHsD0"
   },
   "source": [
    "#### The kicker is, the model we just built is not very practical for a real-world use case.\n",
    "In real life, you probably would not know that your model was trying to learn the conversin formula. You would most likely not build a model with a single node. \n",
    "\n",
    "You're more likely to build a multi-layer, multi-node model. Of course, the weights would make less sense to you, but ML is typically for solving problems you can't easilywrap your mind around.\n",
    "\n",
    "Let's look at a model with the arbitrary node structure: **4 (input) -> 4 (hidden) -> 1 (output)**"
   ]
  },
  {
   "cell_type": "markdown",
   "metadata": {
    "colab_type": "text",
    "id": "DFk_WST5I26l"
   },
   "source": [
    "Build:"
   ]
  },
  {
   "cell_type": "code",
   "execution_count": 0,
   "metadata": {
    "colab": {},
    "colab_type": "code",
    "id": "73rOntWp6vpV"
   },
   "outputs": [],
   "source": [
    "model = tf.keras.Sequential([\n",
    "    tf.keras.layers.Dense(4, input_shape=[1]),\n",
    "    tf.keras.layers.Dense(4),\n",
    "    tf.keras.layers.Dense(1),\n",
    "])"
   ]
  },
  {
   "cell_type": "markdown",
   "metadata": {
    "colab_type": "text",
    "id": "Zfj-660lI4zs"
   },
   "source": [
    "Compile:"
   ]
  },
  {
   "cell_type": "code",
   "execution_count": 11,
   "metadata": {
    "colab": {
     "base_uri": "https://localhost:8080/",
     "height": 92
    },
    "colab_type": "code",
    "id": "QY-iuIx59sLl",
    "outputId": "2971df74-0b32-47ca-82b4-58f6b77d3b4f"
   },
   "outputs": [
    {
     "name": "stdout",
     "output_type": "stream",
     "text": [
      "WARNING:tensorflow:From /usr/local/lib/python3.6/dist-packages/tensorflow/python/keras/utils/losses_utils.py:170: to_float (from tensorflow.python.ops.math_ops) is deprecated and will be removed in a future version.\n",
      "Instructions for updating:\n",
      "Use tf.cast instead.\n"
     ]
    }
   ],
   "source": [
    "model.compile(optimizer=tf.keras.optimizers.Adam(0.1), loss=\"mean_squared_error\")"
   ]
  },
  {
   "cell_type": "markdown",
   "metadata": {
    "colab_type": "text",
    "id": "n2SVCb-oI6Sg"
   },
   "source": [
    "Train:"
   ]
  },
  {
   "cell_type": "code",
   "execution_count": 0,
   "metadata": {
    "colab": {},
    "colab_type": "code",
    "id": "_CmKVWx67xxX"
   },
   "outputs": [],
   "source": [
    "history = model.fit(celsius_q, fahrenheit_a, epochs=500, verbose=False)"
   ]
  },
  {
   "cell_type": "markdown",
   "metadata": {
    "colab_type": "text",
    "id": "XE_LOr3SJAd7"
   },
   "source": [
    "Now let's plot our loss graph and see what happened."
   ]
  },
  {
   "cell_type": "code",
   "execution_count": 13,
   "metadata": {
    "colab": {
     "base_uri": "https://localhost:8080/",
     "height": 279
    },
    "colab_type": "code",
    "id": "RxbBZ6L68vOO",
    "outputId": "c87f50bb-f573-46f0-a8e4-593212fcd0f1"
   },
   "outputs": [
    {
     "data": {
      "image/png": "[encoded data removed]",
      "text/plain": [
       "<Figure size 432x288 with 1 Axes>"
      ]
     },
     "metadata": {
      "tags": []
     },
     "output_type": "display_data"
    }
   ],
   "source": [
    "import matplotlib.pyplot as plt\n",
    "%matplotlib inline\n",
    "\n",
    "plt.figure()\n",
    "plt.xlabel('epoch')\n",
    "plt.ylabel('loss')\n",
    "plt.plot(history.history['loss'])\n",
    "plt.show()"
   ]
  },
  {
   "cell_type": "markdown",
   "metadata": {
    "colab_type": "text",
    "id": "Hrz0kt0ZJMTG"
   },
   "source": [
    "Although less smooth, our new model optimized our loss a lot quicker than our initial model."
   ]
  },
  {
   "cell_type": "code",
   "execution_count": 14,
   "metadata": {
    "colab": {
     "base_uri": "https://localhost:8080/",
     "height": 35
    },
    "colab_type": "code",
    "id": "vafJgfKL96_p",
    "outputId": "2f00e02e-ee4a-4c82-bee1-48438da57205"
   },
   "outputs": [
    {
     "data": {
      "text/plain": [
       "array([[211.74742]], dtype=float32)"
      ]
     },
     "execution_count": 14,
     "metadata": {
      "tags": []
     },
     "output_type": "execute_result"
    }
   ],
   "source": [
    "model.predict([100])"
   ]
  },
  {
   "cell_type": "markdown",
   "metadata": {
    "colab_type": "text",
    "id": "qsNasKaZJzMI"
   },
   "source": [
    "A prediction of the Fahrenheit value of 100 degrees Celcius gives us ~211.75. A little better than our initial model."
   ]
  },
  {
   "cell_type": "markdown",
   "metadata": {
    "colab_type": "text",
    "id": "1q1V4-gsKAZt"
   },
   "source": [
    "We have successfully taught a neural network to convert from Celsius to Fahrenheit with very little data."
   ]
  }
 ],
 "metadata": {
  "accelerator": "GPU",
  "colab": {
   "collapsed_sections": [],
   "name": "Celsius to Fahrenheit - Ashesi DSC",
   "provenance": [],
   "version": "0.3.2"
  },
  "kernelspec": {
   "display_name": "Python 3",
   "language": "python",
   "name": "python3"
  },
  "language_info": {
   "codemirror_mode": {
    "name": "ipython",
    "version": 3
   },
   "file_extension": ".py",
   "mimetype": "text/x-python",
   "name": "python",
   "nbconvert_exporter": "python",
   "pygments_lexer": "ipython3",
   "version": "3.6.8"
  }
 },
 "nbformat": 4,
 "nbformat_minor": 1
}
